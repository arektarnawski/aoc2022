{
 "cells": [
  {
   "cell_type": "code",
   "execution_count": 7,
   "metadata": {},
   "outputs": [
    {
     "data": {
      "text/html": [
       "<div>\n",
       "<style scoped>\n",
       "    .dataframe tbody tr th:only-of-type {\n",
       "        vertical-align: middle;\n",
       "    }\n",
       "\n",
       "    .dataframe tbody tr th {\n",
       "        vertical-align: top;\n",
       "    }\n",
       "\n",
       "    .dataframe thead th {\n",
       "        text-align: right;\n",
       "    }\n",
       "</style>\n",
       "<table border=\"1\" class=\"dataframe\">\n",
       "  <thead>\n",
       "    <tr style=\"text-align: right;\">\n",
       "      <th></th>\n",
       "      <th>direction</th>\n",
       "      <th>steps</th>\n",
       "    </tr>\n",
       "  </thead>\n",
       "  <tbody>\n",
       "    <tr>\n",
       "      <th>0</th>\n",
       "      <td>R</td>\n",
       "      <td>1</td>\n",
       "    </tr>\n",
       "    <tr>\n",
       "      <th>1</th>\n",
       "      <td>L</td>\n",
       "      <td>1</td>\n",
       "    </tr>\n",
       "    <tr>\n",
       "      <th>2</th>\n",
       "      <td>U</td>\n",
       "      <td>1</td>\n",
       "    </tr>\n",
       "    <tr>\n",
       "      <th>3</th>\n",
       "      <td>L</td>\n",
       "      <td>2</td>\n",
       "    </tr>\n",
       "    <tr>\n",
       "      <th>4</th>\n",
       "      <td>U</td>\n",
       "      <td>2</td>\n",
       "    </tr>\n",
       "    <tr>\n",
       "      <th>...</th>\n",
       "      <td>...</td>\n",
       "      <td>...</td>\n",
       "    </tr>\n",
       "    <tr>\n",
       "      <th>1995</th>\n",
       "      <td>D</td>\n",
       "      <td>9</td>\n",
       "    </tr>\n",
       "    <tr>\n",
       "      <th>1996</th>\n",
       "      <td>U</td>\n",
       "      <td>19</td>\n",
       "    </tr>\n",
       "    <tr>\n",
       "      <th>1997</th>\n",
       "      <td>D</td>\n",
       "      <td>6</td>\n",
       "    </tr>\n",
       "    <tr>\n",
       "      <th>1998</th>\n",
       "      <td>R</td>\n",
       "      <td>19</td>\n",
       "    </tr>\n",
       "    <tr>\n",
       "      <th>1999</th>\n",
       "      <td>U</td>\n",
       "      <td>16</td>\n",
       "    </tr>\n",
       "  </tbody>\n",
       "</table>\n",
       "<p>2000 rows × 2 columns</p>\n",
       "</div>"
      ],
      "text/plain": [
       "     direction steps\n",
       "0            R     1\n",
       "1            L     1\n",
       "2            U     1\n",
       "3            L     2\n",
       "4            U     2\n",
       "...        ...   ...\n",
       "1995         D     9\n",
       "1996         U    19\n",
       "1997         D     6\n",
       "1998         R    19\n",
       "1999         U    16\n",
       "\n",
       "[2000 rows x 2 columns]"
      ]
     },
     "execution_count": 7,
     "metadata": {},
     "output_type": "execute_result"
    }
   ],
   "source": [
    "# Part one\n",
    "import pandas as pd\n",
    "import re\n",
    "pd.set_option('display.max_rows', 100)\n",
    "\n",
    "with open ('input.txt', 'rb') as input:\n",
    "    df = pd.read_csv(input, names=['trees']) \n",
    "    df['direction'] = df['trees'].apply(lambda x: x[:1])\n",
    "    df['steps'] = df['trees'].apply(lambda x: x[2:])\n",
    "    df.drop(columns=['trees'], inplace=True)\n",
    "df        "
   ]
  },
  {
   "cell_type": "code",
   "execution_count": 100,
   "metadata": {},
   "outputs": [
    {
     "data": {
      "text/html": [
       "<div>\n",
       "<style scoped>\n",
       "    .dataframe tbody tr th:only-of-type {\n",
       "        vertical-align: middle;\n",
       "    }\n",
       "\n",
       "    .dataframe tbody tr th {\n",
       "        vertical-align: top;\n",
       "    }\n",
       "\n",
       "    .dataframe thead th {\n",
       "        text-align: right;\n",
       "    }\n",
       "</style>\n",
       "<table border=\"1\" class=\"dataframe\">\n",
       "  <thead>\n",
       "    <tr style=\"text-align: right;\">\n",
       "      <th></th>\n",
       "      <th>direction</th>\n",
       "      <th>steps</th>\n",
       "    </tr>\n",
       "  </thead>\n",
       "  <tbody>\n",
       "    <tr>\n",
       "      <th>0</th>\n",
       "      <td>R</td>\n",
       "      <td>1</td>\n",
       "    </tr>\n",
       "    <tr>\n",
       "      <th>1</th>\n",
       "      <td>U</td>\n",
       "      <td>2</td>\n",
       "    </tr>\n",
       "    <tr>\n",
       "      <th>2</th>\n",
       "      <td>L</td>\n",
       "      <td>1</td>\n",
       "    </tr>\n",
       "    <tr>\n",
       "      <th>3</th>\n",
       "      <td>D</td>\n",
       "      <td>1</td>\n",
       "    </tr>\n",
       "  </tbody>\n",
       "</table>\n",
       "</div>"
      ],
      "text/plain": [
       "  direction  steps\n",
       "0         R      1\n",
       "1         U      2\n",
       "2         L      1\n",
       "3         D      1"
      ]
     },
     "execution_count": 100,
     "metadata": {},
     "output_type": "execute_result"
    }
   ],
   "source": [
    "test_df = pd.DataFrame.from_dict(data={'R': 1, 'U': 2, \"L\": 1, \"D\": 1}, orient='index', columns=['direction'])\n",
    "test_df.reset_index(inplace=True)\n",
    "test_df.columns = ['direction', 'steps']\n",
    "test_df"
   ]
  },
  {
   "cell_type": "code",
   "execution_count": 78,
   "metadata": {},
   "outputs": [],
   "source": [
    "# Assets\n",
    "\n",
    "t_positions_register = []\n",
    "h_positions_register = []\n",
    "\n",
    "t_curr_pos = [0,0]\n",
    "h_curr_pos = [0,0]\n",
    "\n",
    "# Functions\n",
    "\n",
    "def is_adjacent(t_curr_pos, h_curr_pos):\n",
    "    x_offset = abs(t_curr_pos[0] - h_curr_pos[0])\n",
    "    y_offset = abs(t_curr_pos[1] - h_curr_pos[1])\n",
    "\n",
    "    if x_offset > 1 or y_offset > 1:\n",
    "        return 'not adjacent'\n",
    "    else:\n",
    "        return 'adjacent or stacked'\n",
    "\n",
    "def get_new_cords(direction, curr_cords):\n",
    "    if direction == 'R':\n",
    "        new_cords = [curr_cords[0] + 1, curr_cords[1]] ## x + 1 from a [x, y] pair\n",
    "    elif direction == 'L':\n",
    "        new_cords = [curr_cords[0] - 1, curr_cords[1]] ## x 1 1 from a [x, y] pair\n",
    "    elif direction == 'U':\n",
    "        new_cords = [curr_cords[0], curr_cords[1] + 1] ## y + 1 from a [x, y] pair\n",
    "    elif direction == 'D':\n",
    "        new_cords = [curr_cords[0], curr_cords[1] - 1] ## y - 1 from a [x, y] pair\n",
    "    return new_cords"
   ]
  },
  {
   "cell_type": "code",
   "execution_count": 82,
   "metadata": {},
   "outputs": [],
   "source": [
    "h_curr_pos = get_new_cords('R',h_curr_pos)"
   ]
  },
  {
   "cell_type": "code",
   "execution_count": 83,
   "metadata": {},
   "outputs": [
    {
     "name": "stdout",
     "output_type": "stream",
     "text": [
      "not adjacent\n"
     ]
    }
   ],
   "source": [
    "result = is_adjacent(t_curr_pos, h_curr_pos)\n",
    "print(result)"
   ]
  },
  {
   "cell_type": "code",
   "execution_count": null,
   "metadata": {},
   "outputs": [],
   "source": [
    "## 0. Both start at cords t_curr_pos = [0,0]. h_curr_pos = [0,0]\n",
    "\n",
    "## For each row of DataFrame, for a number of steps recorded - repeat:\n",
    "## 1. Run is_adjacent()\n",
    "    ## a. if result in ('adjacent or stacked', none):\n",
    "        ## ab. run record_position() for H & T\n",
    "    ## b. if result = 'not adjacent':\n",
    "        ## ba. move T to the last-by-one position of H\n",
    "        ## bb. run record_position() for H & T\n",
    "## 2. H moves to new cords"
   ]
  }
 ],
 "metadata": {
  "kernelspec": {
   "display_name": "Python 3.9.7 ('base')",
   "language": "python",
   "name": "python3"
  },
  "language_info": {
   "codemirror_mode": {
    "name": "ipython",
    "version": 3
   },
   "file_extension": ".py",
   "mimetype": "text/x-python",
   "name": "python",
   "nbconvert_exporter": "python",
   "pygments_lexer": "ipython3",
   "version": "3.9.7"
  },
  "orig_nbformat": 4,
  "vscode": {
   "interpreter": {
    "hash": "782ec11e37be43a2d5027bd249f90a000d35c250b3ef60cc5e70bfb731ab0009"
   }
  }
 },
 "nbformat": 4,
 "nbformat_minor": 2
}
