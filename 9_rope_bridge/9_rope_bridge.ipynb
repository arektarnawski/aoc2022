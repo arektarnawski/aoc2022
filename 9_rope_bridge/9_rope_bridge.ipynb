{
 "cells": [
  {
   "cell_type": "code",
   "execution_count": 5,
   "metadata": {},
   "outputs": [
    {
     "data": {
      "text/html": [
       "<div>\n",
       "<style scoped>\n",
       "    .dataframe tbody tr th:only-of-type {\n",
       "        vertical-align: middle;\n",
       "    }\n",
       "\n",
       "    .dataframe tbody tr th {\n",
       "        vertical-align: top;\n",
       "    }\n",
       "\n",
       "    .dataframe thead th {\n",
       "        text-align: right;\n",
       "    }\n",
       "</style>\n",
       "<table border=\"1\" class=\"dataframe\">\n",
       "  <thead>\n",
       "    <tr style=\"text-align: right;\">\n",
       "      <th></th>\n",
       "      <th>direction</th>\n",
       "      <th>steps</th>\n",
       "    </tr>\n",
       "  </thead>\n",
       "  <tbody>\n",
       "    <tr>\n",
       "      <th>0</th>\n",
       "      <td>R</td>\n",
       "      <td>3</td>\n",
       "    </tr>\n",
       "    <tr>\n",
       "      <th>1</th>\n",
       "      <td>U</td>\n",
       "      <td>2</td>\n",
       "    </tr>\n",
       "    <tr>\n",
       "      <th>2</th>\n",
       "      <td>L</td>\n",
       "      <td>3</td>\n",
       "    </tr>\n",
       "    <tr>\n",
       "      <th>3</th>\n",
       "      <td>D</td>\n",
       "      <td>1</td>\n",
       "    </tr>\n",
       "    <tr>\n",
       "      <th>4</th>\n",
       "      <td>U</td>\n",
       "      <td>3</td>\n",
       "    </tr>\n",
       "  </tbody>\n",
       "</table>\n",
       "</div>"
      ],
      "text/plain": [
       "  direction steps\n",
       "0         R     3\n",
       "1         U     2\n",
       "2         L     3\n",
       "3         D     1\n",
       "4         U     3"
      ]
     },
     "execution_count": 5,
     "metadata": {},
     "output_type": "execute_result"
    }
   ],
   "source": [
    "# Part one\n",
    "import pandas as pd\n",
    "import re\n",
    "import math\n",
    "pd.set_option('display.max_rows', 100)\n",
    "\n",
    "with open ('input_test.txt', 'rb') as input:\n",
    "    df = pd.read_csv(input, names=['trees']) \n",
    "    df['direction'] = df['trees'].apply(lambda x: x[:1])\n",
    "    df['steps'] = df['trees'].apply(lambda x: x[2:])\n",
    "    df.drop(columns=['trees'], inplace=True)\n",
    "df     "
   ]
  },
  {
   "cell_type": "code",
   "execution_count": 6,
   "metadata": {},
   "outputs": [],
   "source": [
    "# Functions\n",
    "\n",
    "def is_adjacent(t_curr_pos, h_curr_pos):\n",
    "    x_offset = abs(t_curr_pos[0] - h_curr_pos[0])\n",
    "    y_offset = abs(t_curr_pos[1] - h_curr_pos[1])\n",
    "\n",
    "    if x_offset > 1 or y_offset > 1:\n",
    "        return 'not adjacent'\n",
    "    else:\n",
    "        return 'adjacent or stacked'\n",
    "\n",
    "def get_new_cords(direction, curr_cords):\n",
    "    if direction == 'R':\n",
    "        new_cords = [curr_cords[0] + 1, curr_cords[1]] ## x + 1 from a [x, y] pair\n",
    "    elif direction == 'L':\n",
    "        new_cords = [curr_cords[0] - 1, curr_cords[1]] ## x 1 1 from a [x, y] pair\n",
    "    elif direction == 'U':\n",
    "        new_cords = [curr_cords[0], curr_cords[1] + 1] ## y + 1 from a [x, y] pair\n",
    "    elif direction == 'D':\n",
    "        new_cords = [curr_cords[0], curr_cords[1] - 1] ## y - 1 from a [x, y] pair\n",
    "    return new_cords"
   ]
  },
  {
   "cell_type": "code",
   "execution_count": null,
   "metadata": {},
   "outputs": [],
   "source": [
    "## 0. Both start at cords t_curr_pos = [0,0]. h_curr_pos = [0,0]\n",
    "\n",
    "## For each row of DataFrame, for a number of steps recorded - repeat:\n",
    "## 1. Run is_adjacent()\n",
    "    ## a. if result = 'adjacent or stacked':\n",
    "        ## ab. record position for H & T\n",
    "    ## b. elif result = 'not adjacent':\n",
    "        ## ba. move T to the last-by-one position of H\n",
    "        ## bb. record position for H & T\n",
    "## 2. H moves to new cords"
   ]
  },
  {
   "cell_type": "code",
   "execution_count": null,
   "metadata": {},
   "outputs": [],
   "source": [
    "## 0.\n",
    "t_positions_register = []\n",
    "h_positions_register = []\n",
    "\n",
    "t_curr_pos = [0,0]\n",
    "h_curr_pos = [0,0]\n",
    "\n",
    "## 1.\n",
    "for index, row in df.iterrows():\n",
    "\n",
    "    direction = row['direction']\n",
    "    steps = int(row['steps'])\n",
    "\n",
    "    for step in range(steps):\n",
    "        result = is_adjacent(t_curr_pos, h_curr_pos)\n",
    "        if result == 'adjacent or stacked':\n",
    "            t_positions_register.append(t_curr_pos)\n",
    "            h_positions_register.append(h_curr_pos)\n",
    "        elif result == 'not adjacent':\n",
    "            h_positions_register.append(h_curr_pos)\n",
    "            t_curr_pos = h_positions_register[-2]\n",
    "            t_positions_register.append(t_curr_pos)\n",
    "            \n",
    "        h_curr_pos = get_new_cords(direction, h_curr_pos)\n",
    "\n",
    "h_positions_register.append(h_curr_pos)\n",
    "final_move = is_adjacent(t_curr_pos, h_curr_pos)\n",
    "\n",
    "if final_move == 'adjacent or stacked':\n",
    "    t_positions_register.append(t_curr_pos)\n",
    "elif final_move == 'not adjacent':\n",
    "    t_curr_pos = h_positions_register[-2]\n",
    "    t_positions_register.append(t_curr_pos)\n",
    "\n",
    "answer = set(tuple(i) for i in t_positions_register)\n",
    "print(len(answer))"
   ]
  },
  {
   "cell_type": "code",
   "execution_count": 7,
   "metadata": {},
   "outputs": [],
   "source": [
    "# Part two\n",
    "\n",
    "def manhattan_distance(point_a, point_b):\n",
    "    distance = abs(point_a[0] - point_b[0]) + abs(point_a[1] - point_b[1])\n",
    "    return distance\n"
   ]
  },
  {
   "cell_type": "code",
   "execution_count": null,
   "metadata": {},
   "outputs": [],
   "source": [
    "## For each row of DataFrame, for a number of steps recorded - repeat:\n",
    "\n",
    "# Check if list 1 is adjacent to list 0\n",
    "# if adjacent, record positions and end\n",
    "# if not adjacent, move list 1 to last-by-one position of list 0\n",
    "# Check if list 2 is adjacent to list 1\n",
    "    # if adjacent, record positions and end\n",
    "    # if not adjacent, move list 2 to last-by-one position of list 1\n",
    "# ...\n",
    "# Check if list 10 is adjacent to list 9\n",
    "    #if adjacent, record positions and end\n",
    "    #if not adjacent, move list 10 to last-by-one position of list 9\n",
    "# Assign new cords for head ( = list 0)"
   ]
  },
  {
   "cell_type": "code",
   "execution_count": null,
   "metadata": {},
   "outputs": [],
   "source": [
    " # New functions"
   ]
  },
  {
   "cell_type": "code",
   "execution_count": 4,
   "metadata": {},
   "outputs": [
    {
     "name": "stdout",
     "output_type": "stream",
     "text": [
      "4\n"
     ]
    }
   ],
   "source": [
    "# Creating assets in an automated way for 10 knots\n",
    "\n",
    "current_cords_register = []\n",
    "all_positions_register = []\n",
    "for i in range(3):\n",
    "    cords_register = [0,0]\n",
    "    positions_register = []\n",
    "    current_cords_register.append(cords_register)\n",
    "    all_positions_register.append(positions_register)\n",
    "\n",
    "## 1.\n",
    "for index, row in df.iterrows():\n",
    "\n",
    "    direction = row['direction']\n",
    "    steps = int(row['steps'])\n",
    "\n",
    "    for step in range(steps):\n",
    "        for i in range(len(current_cords_register)-1):\n",
    "            distance = manhattan_distance(current_cords_register[i], current_cords_register[i+1])\n",
    "            if distance <= math.sqrt(2): # this means they are either: stacked (dist = 0), touching in-line (dist = 1) or touching diagonally (dist = sqrt(2)\n",
    "                all_positions_register[i].append(current_cords_register[i]) # Head\n",
    "                all_positions_register[i+1].append(current_cords_register[i+1]) # Second knot / tail\n",
    "            elif distance == 2:\n",
    "                all_positions_register[i].append(current_cords_register[i]) # Head\n",
    "                current_cords_register[i+1] = all_positions_register[i][-2] # Assign last-by-one position of head to the second knot\n",
    "                all_positions_register[i+1].append(current_cords_register[i+1])\n",
    "                else: # all other knots\n",
    "                                   if i == 0: # different scenario for first knot after the head\n",
    "            \n",
    "            \n",
    "            elif result == 'not adjacent':\n",
    "                all_positions_register[i].append(current_cords_register[i]) # Head\n",
    "                current_cords_register[i+1] = all_positions_register[i][-2] # Assign last-by-one position of head to the tail knot\n",
    "                all_positions_register[i+1].append(current_cords_register[i+1])\n",
    "        \n",
    "        current_cords_register[0] = get_new_cords(direction, current_cords_register[0]) # Assign new coordinates to head\n",
    "\n",
    "all_positions_register[0].append(current_cords_register[0])\n",
    "\n",
    "for i in range(len(current_cords_register)-1):\n",
    "    final_move = is_adjacent(current_cords_register[i], current_cords_register[i+1])\n",
    "    if final_move == 'adjacent or stacked':\n",
    "        all_positions_register[i+1].append(current_cords_register[i+1])\n",
    "    elif final_move == 'not adjacent':\n",
    "        current_cords_register[i+1] = all_positions_register[i][-2]\n",
    "        all_positions_register[i+1].append(current_cords_register[i+1])\n",
    "\n",
    "answer = set(tuple(i) for i in all_positions_register[2])\n",
    "print(len(answer))"
   ]
  },
  {
   "cell_type": "code",
   "execution_count": null,
   "metadata": {},
   "outputs": [],
   "source": []
  }
 ],
 "metadata": {
  "interpreter": {
   "hash": "31f2aee4e71d21fbe5cf8b01ff0e069b9275f58929596ceb00d14d90e3e16cd6"
  },
  "kernelspec": {
   "display_name": "Python 3.8.2 64-bit",
   "language": "python",
   "name": "python3"
  },
  "language_info": {
   "codemirror_mode": {
    "name": "ipython",
    "version": 3
   },
   "file_extension": ".py",
   "mimetype": "text/x-python",
   "name": "python",
   "nbconvert_exporter": "python",
   "pygments_lexer": "ipython3",
   "version": "3.8.2"
  },
  "orig_nbformat": 4,
  "vscode": {
   "interpreter": {
    "hash": "782ec11e37be43a2d5027bd249f90a000d35c250b3ef60cc5e70bfb731ab0009"
   }
  }
 },
 "nbformat": 4,
 "nbformat_minor": 2
}
