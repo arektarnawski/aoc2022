{
 "cells": [
  {
   "cell_type": "code",
   "execution_count": null,
   "metadata": {},
   "outputs": [],
   "source": [
    "# All four characters are different\n",
    "# Specifically, it needs to report the number of characters from the beginning of the buffer to the end of the first such four-character marker.\n"
   ]
  },
  {
   "cell_type": "code",
   "execution_count": 11,
   "metadata": {},
   "outputs": [],
   "source": [
    "# Reading in-the file, removing the next-line character with .rstrip()\n",
    "with open ('input.txt', 'rb') as f:\n",
    "    code = f.readline().rstrip()\n",
    "\n",
    "# Converting to string from bytes\n",
    "code_text = str(code, 'utf-8')"
   ]
  },
  {
   "cell_type": "code",
   "execution_count": 48,
   "metadata": {},
   "outputs": [
    {
     "name": "stdout",
     "output_type": "stream",
     "text": [
      "1130: {'h', 'w', 'j', 'f'}\n"
     ]
    },
    {
     "data": {
      "text/plain": [
       "1134"
      ]
     },
     "execution_count": 48,
     "metadata": {},
     "output_type": "execute_result"
    }
   ],
   "source": [
    "length = len(code_text)\n",
    "\n",
    "# Using the feature of sets - they do not contain duplicate elements and string are easy to convert to a set.\n",
    "# The moment a set with a length of four elements is identified, this is the marker and the loop breaks.\n",
    "for i in range(length-3):\n",
    "    four = set(code_text[0+i:4+i])\n",
    "    if len(four) == 4:\n",
    "        pos = i\n",
    "        print(f\"{pos}: {four}\")\n",
    "        break\n",
    "marker_pos = i +4\n",
    "marker_pos"
   ]
  },
  {
   "cell_type": "code",
   "execution_count": 50,
   "metadata": {},
   "outputs": [
    {
     "name": "stdout",
     "output_type": "stream",
     "text": [
      "2249: {'c', 't', 'q', 'f', 'h', 's', 'b', 'j', 'p', 'v', 'w', 'r', 'g', 'n'}\n"
     ]
    },
    {
     "data": {
      "text/plain": [
       "2263"
      ]
     },
     "execution_count": 50,
     "metadata": {},
     "output_type": "execute_result"
    }
   ],
   "source": [
    "# Part two\n",
    "\n",
    "# Everything (surprisingly) works the same except we are looking for 14-character set now instead of 4 character; small adjustment to names and lenghts and v'oila.\n",
    "for i in range(length-13):\n",
    "    fourteens = set(code_text[0+i:14+i])\n",
    "    if len(fourteens) == 14:\n",
    "        pos = i\n",
    "        print(f\"{pos}: {fourteens}\")\n",
    "        break\n",
    "marker_pos = i + 14\n",
    "marker_pos"
   ]
  }
 ],
 "metadata": {
  "interpreter": {
   "hash": "31f2aee4e71d21fbe5cf8b01ff0e069b9275f58929596ceb00d14d90e3e16cd6"
  },
  "kernelspec": {
   "display_name": "Python 3.8.2 64-bit",
   "language": "python",
   "name": "python3"
  },
  "language_info": {
   "codemirror_mode": {
    "name": "ipython",
    "version": 3
   },
   "file_extension": ".py",
   "mimetype": "text/x-python",
   "name": "python",
   "nbconvert_exporter": "python",
   "pygments_lexer": "ipython3",
   "version": "3.8.2"
  },
  "orig_nbformat": 4
 },
 "nbformat": 4,
 "nbformat_minor": 2
}
