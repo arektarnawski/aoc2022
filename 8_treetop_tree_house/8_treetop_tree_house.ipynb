{
 "cells": [
  {
   "cell_type": "code",
   "execution_count": null,
   "metadata": {},
   "outputs": [],
   "source": [
    "# Part one\n",
    "import pandas as pd\n",
    "import re\n",
    "pd.set_option('display.max_rows', 100)\n",
    "\n",
    "with open ('input.txt', 'rb') as input:\n",
    "    df = pd.read_csv(input, names=['trees'], converters={'trees': str}) \n",
    "df                                                                                                                                                                                                                                                                                                                                                                                                                                                                                                             "
   ]
  },
  {
   "cell_type": "code",
   "execution_count": null,
   "metadata": {},
   "outputs": [],
   "source": [
    "# Matrix size: columns & rows\n",
    "no_of_columns = len(list(df['trees'][0]))\n",
    "no_of_rows = len(df)\n",
    "\n",
    "# Create a new DF with no_of_columns columns\n",
    "matrix_df = pd.DataFrame()\n",
    "\n",
    "# Append rows to new DF; create a matrix insde a DF\n",
    "for _ in range(no_of_rows):\n",
    "    matrix_df = matrix_df.append(pd.DataFrame([list(df['trees'][_])]), ignore_index=True)"
   ]
  },
  {
   "cell_type": "code",
   "execution_count": 154,
   "metadata": {},
   "outputs": [
    {
     "name": "stdout",
     "output_type": "stream",
     "text": [
      "1711\n"
     ]
    }
   ],
   "source": [
    "# Iterate over elements\n",
    "edge_tall_trees = no_of_columns*2 + 2*no_of_rows - 4\n",
    "inner_tall_trees = 0\n",
    "\n",
    "for row_index, row in matrix_df.iterrows(): # For each row in DataFrame...\n",
    "    if row_index not in [0, no_of_rows-1]: # Skip first and last rows - we know they are visible\n",
    "        for column_index in range(no_of_columns): # ... and for each column in that specific row...\n",
    "            if column_index not in [0, no_of_columns-1]: # Skip first and last columns - we know they are visible\n",
    "                \n",
    "                tested_tree = int(matrix_df.iloc[row_index,column_index])\n",
    "\n",
    "                max_up = max(list(matrix_df.iloc[:row_index,column_index])) # from up\n",
    "                max_down = max(list(matrix_df.iloc[row_index+1:,column_index])) # from down\n",
    "\n",
    "                max_left = max(list(matrix_df.iloc[row_index,:column_index])) # from left\n",
    "                max_right = max(list(matrix_df.iloc[row_index,column_index+1:])) # from right\n",
    "\n",
    "                # print(\"Row index: \", row_index, \"Column index: \", column_index, \"Tested tree: \", tested_tree, \"All elements: \", )\n",
    "                if tested_tree > int(min([max_up,max_down,max_left,max_right])):\n",
    "                    inner_tall_trees += 1\n",
    "\n",
    "total_tall_trees = edge_tall_trees + inner_tall_trees\n",
    "total_tall_trees"
   ]
  },
  {
   "cell_type": "code",
   "execution_count": 151,
   "metadata": {},
   "outputs": [],
   "source": [
    "# Part two\n"
   ]
  },
  {
   "cell_type": "code",
   "execution_count": 153,
   "metadata": {},
   "outputs": [
    {
     "data": {
      "text/plain": [
       "301392"
      ]
     },
     "execution_count": 153,
     "metadata": {},
     "output_type": "execute_result"
    }
   ],
   "source": [
    "# Iterate over elements\n",
    "\n",
    "most_scenic_score = 0\n",
    "\n",
    "for row_index, row in matrix_df.iterrows(): # For each row in DataFrame...\n",
    "    for column_index in range(no_of_columns): # ... and for each column in that specific row...\n",
    "\n",
    "        tested_tree = int(matrix_df.iloc[row_index,column_index])\n",
    "\n",
    "        # Checking the view to the left of the tested tree\n",
    "        left_view = list(matrix_df.iloc[row_index,:column_index])\n",
    "        left_view_score = 0\n",
    "\n",
    "        for index, value in enumerate(left_view[::-1]):\n",
    "            if tested_tree > int(value):\n",
    "                left_view_score += 1\n",
    "                continue\n",
    "            elif tested_tree <= int(value):\n",
    "                left_view_score += 1\n",
    "                break\n",
    "\n",
    "        # Checking the view to the right of the tested tree\n",
    "        right_view = list(matrix_df.iloc[row_index,column_index+1:])\n",
    "        right_view_score = 0\n",
    "\n",
    "        for index, value in enumerate(right_view):\n",
    "            if tested_tree > int(value):\n",
    "                right_view_score += 1\n",
    "                continue\n",
    "            elif tested_tree <= int(value):\n",
    "                right_view_score += 1\n",
    "                break     \n",
    "\n",
    "        # Checking the view up from the tested tree\n",
    "        up_view = list(matrix_df.iloc[:row_index,column_index])\n",
    "        up_view_score = 0\n",
    "\n",
    "        for index, value in enumerate(up_view[::-1]):\n",
    "            if tested_tree > int(value):\n",
    "                up_view_score += 1\n",
    "                continue\n",
    "            elif tested_tree <= int(value):\n",
    "                up_view_score += 1\n",
    "                break    \n",
    "\n",
    "        # Checking the view down from the tested tree\n",
    "        down_view = list(matrix_df.iloc[row_index+1:,column_index])\n",
    "        down_view_score = 0\n",
    "\n",
    "        for index, value in enumerate(down_view):\n",
    "            if tested_tree > int(value):\n",
    "                down_view_score += 1\n",
    "                continue\n",
    "            elif tested_tree <= int(value):\n",
    "                down_view_score += 1\n",
    "                break\n",
    "\n",
    "        scenic_score = left_view_score * right_view_score * up_view_score * down_view_score\n",
    "\n",
    "        if scenic_score > most_scenic_score:\n",
    "            most_scenic_score = scenic_score\n",
    "\n",
    "most_scenic_score"
   ]
  }
 ],
 "metadata": {
  "interpreter": {
   "hash": "31f2aee4e71d21fbe5cf8b01ff0e069b9275f58929596ceb00d14d90e3e16cd6"
  },
  "kernelspec": {
   "display_name": "Python 3.8.2 64-bit",
   "language": "python",
   "name": "python3"
  },
  "language_info": {
   "codemirror_mode": {
    "name": "ipython",
    "version": 3
   },
   "file_extension": ".py",
   "mimetype": "text/x-python",
   "name": "python",
   "nbconvert_exporter": "python",
   "pygments_lexer": "ipython3",
   "version": "3.8.2"
  },
  "orig_nbformat": 4
 },
 "nbformat": 4,
 "nbformat_minor": 2
}
