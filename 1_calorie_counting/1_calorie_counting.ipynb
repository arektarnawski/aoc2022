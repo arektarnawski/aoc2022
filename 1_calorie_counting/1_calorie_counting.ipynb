{
 "cells": [
  {
   "cell_type": "code",
   "execution_count": null,
   "metadata": {},
   "outputs": [],
   "source": [
    "# Part one\n",
    "\n",
    "import pandas as pd\n",
    "import numpy as np\n",
    "pandas.set_option('display.max_rows', 100)\n",
    "\n",
    "with open ('input.txt', 'rb') as input:\n",
    "    df = pd.read_csv(input, names=['calories'], skip_blank_lines=False)"
   ]
  },
  {
   "cell_type": "code",
   "execution_count": 27,
   "metadata": {},
   "outputs": [],
   "source": [
    "elf=1\n",
    "calorie_count = 0\n",
    "calorie_dict = {}\n",
    "\n",
    "for index, row in df.iterrows():\n",
    "    if not np.isnan(row[\"calories\"]):\n",
    "        calorie_count += row[\"calories\"]\n",
    "    else:\n",
    "        calorie_dict[elf] = calorie_count\n",
    "        calorie_count = 0\n",
    "        elf += 1"
   ]
  },
  {
   "cell_type": "code",
   "execution_count": 30,
   "metadata": {},
   "outputs": [
    {
     "data": {
      "text/plain": [
       "(113, 71506.0)"
      ]
     },
     "execution_count": 30,
     "metadata": {},
     "output_type": "execute_result"
    }
   ],
   "source": [
    "max(calorie_dict.items(), key=lambda k: k[1])"
   ]
  },
  {
   "cell_type": "code",
   "execution_count": null,
   "metadata": {},
   "outputs": [],
   "source": [
    "# Part two"
   ]
  },
  {
   "cell_type": "code",
   "execution_count": 33,
   "metadata": {},
   "outputs": [
    {
     "data": {
      "text/plain": [
       "209603.0"
      ]
     },
     "execution_count": 33,
     "metadata": {},
     "output_type": "execute_result"
    }
   ],
   "source": [
    "top3_sum = 0\n",
    "for w in sorted(calorie_dict, key=calorie_dict.get, reverse=True)[:3]:\n",
    "   top3_sum += calorie_dict[w]\n",
    "top3_sum"
   ]
  }
 ],
 "metadata": {
  "interpreter": {
   "hash": "31f2aee4e71d21fbe5cf8b01ff0e069b9275f58929596ceb00d14d90e3e16cd6"
  },
  "kernelspec": {
   "display_name": "Python 3.8.2 64-bit",
   "language": "python",
   "name": "python3"
  },
  "language_info": {
   "codemirror_mode": {
    "name": "ipython",
    "version": 3
   },
   "file_extension": ".py",
   "mimetype": "text/x-python",
   "name": "python",
   "nbconvert_exporter": "python",
   "pygments_lexer": "ipython3",
   "version": "3.8.2"
  },
  "orig_nbformat": 4
 },
 "nbformat": 4,
 "nbformat_minor": 2
}
