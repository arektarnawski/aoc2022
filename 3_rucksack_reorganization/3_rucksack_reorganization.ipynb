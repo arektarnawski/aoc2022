{
 "cells": [
  {
   "cell_type": "code",
   "execution_count": 21,
   "metadata": {},
   "outputs": [],
   "source": [
    "# Part one\n",
    "\n",
    "import pandas as pd\n",
    "import numpy as np\n",
    "import re\n",
    "pd.set_option('display.max_rows', 100)\n",
    "\n",
    "with open ('input.txt', 'rb') as input:\n",
    "    df = pd.read_csv(input, names=['items'], skip_blank_lines=False)"
   ]
  },
  {
   "cell_type": "code",
   "execution_count": 6,
   "metadata": {},
   "outputs": [],
   "source": [
    "# Creating alphabet dicts\n",
    "lowercase_dict = {chr(i+96):i for i in range(1,27)}\n",
    "uppercase_dict = {chr(i+64):26+i for i in range(1,27)}"
   ]
  },
  {
   "cell_type": "code",
   "execution_count": 38,
   "metadata": {},
   "outputs": [
    {
     "name": "stdout",
     "output_type": "stream",
     "text": [
      "7821\n"
     ]
    }
   ],
   "source": [
    "total_priority = 0 \n",
    "\n",
    "# Main loop\n",
    "for index, row in df.iterrows():\n",
    "\n",
    "    # No. of items in backpack\n",
    "    no_of_items = len(row['items'])\n",
    "\n",
    "    # # Left compartment\n",
    "    left_comp = row['items'][:int(no_of_items/2)]\n",
    "    right_comp = row['items'][int(no_of_items/2):]\n",
    "\n",
    "    # Common character between strings - the logic is to convert the strings into sets (no duplicate characters) and find the intersection between two sets\n",
    "    common_character = ''.join(set(left_comp).intersection(right_comp))\n",
    "\n",
    "    # Converting the common character to a priority value\n",
    "    if common_character in lowercase_dict:\n",
    "        total_priority += lowercase_dict[common_character]\n",
    "    else:\n",
    "        total_priority += uppercase_dict[common_character]\n",
    "print(total_priority)"
   ]
  },
  {
   "cell_type": "code",
   "execution_count": null,
   "metadata": {},
   "outputs": [],
   "source": [
    "# Part two"
   ]
  },
  {
   "cell_type": "code",
   "execution_count": 70,
   "metadata": {},
   "outputs": [
    {
     "name": "stdout",
     "output_type": "stream",
     "text": [
      "2752\n"
     ]
    }
   ],
   "source": [
    "no_of_groups = int(len(df)/3)\n",
    "total_priority = 0 \n",
    "\n",
    "for group in range(1,no_of_groups+1):\n",
    "    group_items = []\n",
    "\n",
    "    # Slicing the dataframe 3 rows each starting from the top - total iterations is the number of groups existing\n",
    "    for index, row in df[3*(group-1):3*group].iterrows():\n",
    "        group_items.append(row['items'])\n",
    "\n",
    "    # Assigning the individual backpack contents' to each elf in the group; transforming to set to remove duplicates\n",
    "    elf_1 = set(group_items[0])\n",
    "    elf_2 = set(group_items[1])\n",
    "    elf_3 = set(group_items[2])\n",
    "\n",
    "    # Finding the only common element between three elves\n",
    "    common_character = ''.join(elf_1.intersection(elf_2).intersection(elf_3))\n",
    "\n",
    "    # Converting the common character to a priority value\n",
    "    if common_character in lowercase_dict:\n",
    "        total_priority += lowercase_dict[common_character]\n",
    "    else:\n",
    "        total_priority += uppercase_dict[common_character]\n",
    "\n",
    "print(total_priority)"
   ]
  }
 ],
 "metadata": {
  "interpreter": {
   "hash": "31f2aee4e71d21fbe5cf8b01ff0e069b9275f58929596ceb00d14d90e3e16cd6"
  },
  "kernelspec": {
   "display_name": "Python 3.8.2 64-bit",
   "language": "python",
   "name": "python3"
  },
  "language_info": {
   "codemirror_mode": {
    "name": "ipython",
    "version": 3
   },
   "file_extension": ".py",
   "mimetype": "text/x-python",
   "name": "python",
   "nbconvert_exporter": "python",
   "pygments_lexer": "ipython3",
   "version": "3.8.2"
  },
  "orig_nbformat": 4
 },
 "nbformat": 4,
 "nbformat_minor": 2
}
