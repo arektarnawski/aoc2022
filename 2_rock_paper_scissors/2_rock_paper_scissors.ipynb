{
 "cells": [
  {
   "cell_type": "code",
   "execution_count": 35,
   "metadata": {},
   "outputs": [],
   "source": [
    "# Part one\n",
    "\n",
    "import pandas as pd\n",
    "import numpy as np\n",
    "pd.set_option('display.max_rows', 100)\n",
    "\n",
    "with open ('input.txt', 'rb') as input:\n",
    "    df = pd.read_csv(input, names=['moves'], skip_blank_lines=False)"
   ]
  },
  {
   "cell_type": "code",
   "execution_count": 41,
   "metadata": {},
   "outputs": [
    {
     "data": {
      "text/html": [
       "<div>\n",
       "<style scoped>\n",
       "    .dataframe tbody tr th:only-of-type {\n",
       "        vertical-align: middle;\n",
       "    }\n",
       "\n",
       "    .dataframe tbody tr th {\n",
       "        vertical-align: top;\n",
       "    }\n",
       "\n",
       "    .dataframe thead th {\n",
       "        text-align: right;\n",
       "    }\n",
       "</style>\n",
       "<table border=\"1\" class=\"dataframe\">\n",
       "  <thead>\n",
       "    <tr style=\"text-align: right;\">\n",
       "      <th></th>\n",
       "      <th>moves</th>\n",
       "    </tr>\n",
       "  </thead>\n",
       "  <tbody>\n",
       "    <tr>\n",
       "      <th>0</th>\n",
       "      <td>BX</td>\n",
       "    </tr>\n",
       "    <tr>\n",
       "      <th>1</th>\n",
       "      <td>AZ</td>\n",
       "    </tr>\n",
       "    <tr>\n",
       "      <th>2</th>\n",
       "      <td>AY</td>\n",
       "    </tr>\n",
       "    <tr>\n",
       "      <th>3</th>\n",
       "      <td>BX</td>\n",
       "    </tr>\n",
       "    <tr>\n",
       "      <th>4</th>\n",
       "      <td>CZ</td>\n",
       "    </tr>\n",
       "    <tr>\n",
       "      <th>5</th>\n",
       "      <td>BY</td>\n",
       "    </tr>\n",
       "    <tr>\n",
       "      <th>6</th>\n",
       "      <td>BX</td>\n",
       "    </tr>\n",
       "    <tr>\n",
       "      <th>7</th>\n",
       "      <td>CX</td>\n",
       "    </tr>\n",
       "    <tr>\n",
       "      <th>8</th>\n",
       "      <td>AY</td>\n",
       "    </tr>\n",
       "    <tr>\n",
       "      <th>9</th>\n",
       "      <td>BY</td>\n",
       "    </tr>\n",
       "  </tbody>\n",
       "</table>\n",
       "</div>"
      ],
      "text/plain": [
       "  moves\n",
       "0    BX\n",
       "1    AZ\n",
       "2    AY\n",
       "3    BX\n",
       "4    CZ\n",
       "5    BY\n",
       "6    BX\n",
       "7    CX\n",
       "8    AY\n",
       "9    BY"
      ]
     },
     "execution_count": 41,
     "metadata": {},
     "output_type": "execute_result"
    }
   ],
   "source": [
    "df['moves'] = df['moves'].apply(lambda x: x.replace(\" \", \"\"))\n",
    "df.head(10)"
   ]
  },
  {
   "cell_type": "code",
   "execution_count": 53,
   "metadata": {},
   "outputs": [
    {
     "data": {
      "text/plain": [
       "10994"
      ]
     },
     "execution_count": 53,
     "metadata": {},
     "output_type": "execute_result"
    }
   ],
   "source": [
    "win_pairs = ['CX', 'AY', 'BZ']\n",
    "draw_pairs = ['AX','BY', 'CZ']\n",
    "shape_score = {'X':1, 'Y':2, 'Z':3}\n",
    "\n",
    "score = 0\n",
    "\n",
    "for index, row in df.iterrows():\n",
    "    \n",
    "    # Score for the shape played\n",
    "    score += shape_score[row['moves'][1]]\n",
    "\n",
    "    # Score for the round outcome\n",
    "    if row['moves'] in win_pairs:\n",
    "        score += 6\n",
    "    elif row['moves'] in draw_pairs:\n",
    "        score += 3\n",
    "score"
   ]
  },
  {
   "cell_type": "code",
   "execution_count": 59,
   "metadata": {},
   "outputs": [],
   "source": [
    "# Part two\n",
    "strategy = {\"A\":[\"C\",\"A\",\"B\"], \"B\":[\"A\",\"B\",\"C\"], \"C\":[\"B\",\"C\",\"A\"]} # [opponents_move:[lose,draw,win]]\n",
    "round_score = {\"X\":0, \"Y\":3, \"Z\":6}\n",
    "shape_score = {'A':1, 'B':2, 'C':3}"
   ]
  },
  {
   "cell_type": "code",
   "execution_count": 60,
   "metadata": {},
   "outputs": [
    {
     "data": {
      "text/plain": [
       "12526"
      ]
     },
     "execution_count": 60,
     "metadata": {},
     "output_type": "execute_result"
    }
   ],
   "source": [
    "\n",
    "score = 0\n",
    "\n",
    "for index, row in df.iterrows():\n",
    "    # Opponent's move\n",
    "    op_move = row['moves'][0]\n",
    "\n",
    "    # Desired round outcome - X, Y or Z\n",
    "    rn_outcome = row['moves'][1]\n",
    "\n",
    "    # Round shape played by me\n",
    "    if rn_outcome == 'X': # we need to lose\n",
    "        my_shape = strategy[op_move][0]\n",
    "    elif rn_outcome == 'Y': # we need to draw\n",
    "        my_shape = strategy[op_move][1]\n",
    "    else: # we need to win\n",
    "        my_shape = strategy[op_move][2]\n",
    "\n",
    "    # Points for round outcome:\n",
    "    score += round_score[rn_outcome]\n",
    "\n",
    "    # Points for shape played by me\n",
    "    score += shape_score[my_shape]\n",
    "\n",
    "score"
   ]
  }
 ],
 "metadata": {
  "interpreter": {
   "hash": "31f2aee4e71d21fbe5cf8b01ff0e069b9275f58929596ceb00d14d90e3e16cd6"
  },
  "kernelspec": {
   "display_name": "Python 3.8.2 64-bit",
   "language": "python",
   "name": "python3"
  },
  "language_info": {
   "codemirror_mode": {
    "name": "ipython",
    "version": 3
   },
   "file_extension": ".py",
   "mimetype": "text/x-python",
   "name": "python",
   "nbconvert_exporter": "python",
   "pygments_lexer": "ipython3",
   "version": "3.8.2"
  },
  "orig_nbformat": 4
 },
 "nbformat": 4,
 "nbformat_minor": 2
}
