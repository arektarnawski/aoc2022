{
 "cells": [
  {
   "cell_type": "code",
   "execution_count": 3,
   "metadata": {},
   "outputs": [],
   "source": [
    "# Part one\n",
    "\n",
    "import pandas as pd\n",
    "import re\n",
    "pd.set_option('display.max_rows', 100)\n",
    "\n",
    "with open ('input.txt', 'rb') as input:\n",
    "    df = pd.read_csv(input, names=['elf_1', 'elf_2'], skip_blank_lines=False)"
   ]
  },
  {
   "cell_type": "code",
   "execution_count": 25,
   "metadata": {},
   "outputs": [
    {
     "data": {
      "text/plain": [
       "448"
      ]
     },
     "execution_count": 25,
     "metadata": {},
     "output_type": "execute_result"
    }
   ],
   "source": [
    "duplicate_groups = 0\n",
    "\n",
    "# Main loop\n",
    "for index, row in df.iterrows():\n",
    "\n",
    "    range_A = row['elf_1']\n",
    "    range_B = row['elf_2']\n",
    "    range_A_min = int(range_A.split('-')[0])\n",
    "    range_A_max = int(range_A.split('-')[1])\n",
    "\n",
    "    range_B_min = int(range_B.split('-')[0])\n",
    "    range_B_max = int(range_B.split('-')[1])\n",
    "\n",
    "    # Case if range_A contains whole range_B\n",
    "    if (range_A_min <= range_B_min and range_A_max >= range_B_max):\n",
    "        duplicate_groups += 1\n",
    "    # Case if range_B contains whole range_A\n",
    "    elif (range_B_min <= range_A_min and range_B_max >= range_A_max):\n",
    "        duplicate_groups += 1\n",
    "\n",
    "duplicate_groups\n"
   ]
  },
  {
   "cell_type": "code",
   "execution_count": null,
   "metadata": {},
   "outputs": [],
   "source": [
    "# Part two"
   ]
  },
  {
   "cell_type": "code",
   "execution_count": 39,
   "metadata": {},
   "outputs": [
    {
     "data": {
      "text/plain": [
       "794"
      ]
     },
     "execution_count": 39,
     "metadata": {},
     "output_type": "execute_result"
    }
   ],
   "source": [
    "intersected_groups = 0\n",
    "\n",
    "# Main loop\n",
    "for index, row in df.iterrows():\n",
    "\n",
    "    range_A = row['elf_1']\n",
    "    range_B = row['elf_2']\n",
    "    range_A_min = int(range_A.split('-')[0])\n",
    "    range_A_max = int(range_A.split('-')[1])\n",
    "\n",
    "    range_B_min = int(range_B.split('-')[0])\n",
    "    range_B_max = int(range_B.split('-')[1])\n",
    "\n",
    "    range_A_fields = set([element for element in range(range_A_min, range_A_max+1)])\n",
    "    range_B_fields = set([element for element in range(range_B_min, range_B_max+1)])\n",
    "\n",
    "    common = range_A_fields.intersection(range_B_fields)\n",
    "\n",
    "    if len(common) != 0:\n",
    "        intersected_groups += 1\n",
    "\n",
    "intersected_groups"
   ]
  }
 ],
 "metadata": {
  "interpreter": {
   "hash": "31f2aee4e71d21fbe5cf8b01ff0e069b9275f58929596ceb00d14d90e3e16cd6"
  },
  "kernelspec": {
   "display_name": "Python 3.8.2 64-bit",
   "language": "python",
   "name": "python3"
  },
  "language_info": {
   "codemirror_mode": {
    "name": "ipython",
    "version": 3
   },
   "file_extension": ".py",
   "mimetype": "text/x-python",
   "name": "python",
   "nbconvert_exporter": "python",
   "pygments_lexer": "ipython3",
   "version": "3.8.2"
  },
  "orig_nbformat": 4
 },
 "nbformat": 4,
 "nbformat_minor": 2
}
